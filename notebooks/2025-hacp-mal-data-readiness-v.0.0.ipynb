{
 "cells": [
  {
   "cell_type": "code",
   "execution_count": null,
   "id": "690108fa-2fc3-4dfe-9f9c-37249535e4fb",
   "metadata": {},
   "outputs": [],
   "source": []
  },
  {
   "cell_type": "code",
   "execution_count": 1,
   "id": "1df8d309-5c25-4ed2-9d3d-b7c64c7428e6",
   "metadata": {},
   "outputs": [],
   "source": [
    "import sys\n",
    "import os\n",
    "\n",
    "# Add the project directory to sys.path\n",
    "project_path = \"/Users/hugocontrerasp/Documents/GitHub/moria_ai_labs_dev/data_readiness/src/\"\n",
    "if project_path not in sys.path:\n",
    "    sys.path.append(project_path)"
   ]
  },
  {
   "cell_type": "code",
   "execution_count": 4,
   "id": "86aa8cb2-0cf9-4358-aac8-13802ad1911b",
   "metadata": {},
   "outputs": [],
   "source": [
    "# Import the function\n",
    "from data_readiness_engine import pipelines as pl"
   ]
  },
  {
   "cell_type": "code",
   "execution_count": 6,
   "id": "38f0d3e0-9129-4fda-a053-6e6e14fcfff4",
   "metadata": {},
   "outputs": [
    {
     "ename": "AttributeError",
     "evalue": "module 'data_readiness_engine.pipelines' has no attribute 'data_ingestion'",
     "output_type": "error",
     "traceback": [
      "\u001b[31m---------------------------------------------------------------------------\u001b[39m",
      "\u001b[31mAttributeError\u001b[39m                            Traceback (most recent call last)",
      "\u001b[36mCell\u001b[39m\u001b[36m \u001b[39m\u001b[32mIn[6]\u001b[39m\u001b[32m, line 1\u001b[39m\n\u001b[32m----> \u001b[39m\u001b[32m1\u001b[39m \u001b[43mpl\u001b[49m\u001b[43m.\u001b[49m\u001b[43mdata_ingestion\u001b[49m\n",
      "\u001b[31mAttributeError\u001b[39m: module 'data_readiness_engine.pipelines' has no attribute 'data_ingestion'"
     ]
    }
   ],
   "source": [
    "pl.data_ingestion"
   ]
  },
  {
   "cell_type": "code",
   "execution_count": null,
   "id": "55c20dcd-7618-4f3d-941c-a99effea45f8",
   "metadata": {},
   "outputs": [],
   "source": []
  }
 ],
 "metadata": {
  "kernelspec": {
   "display_name": "Python 3 (ipykernel)",
   "language": "python",
   "name": "python3"
  },
  "language_info": {
   "codemirror_mode": {
    "name": "ipython",
    "version": 3
   },
   "file_extension": ".py",
   "mimetype": "text/x-python",
   "name": "python",
   "nbconvert_exporter": "python",
   "pygments_lexer": "ipython3",
   "version": "3.11.5"
  }
 },
 "nbformat": 4,
 "nbformat_minor": 5
}
