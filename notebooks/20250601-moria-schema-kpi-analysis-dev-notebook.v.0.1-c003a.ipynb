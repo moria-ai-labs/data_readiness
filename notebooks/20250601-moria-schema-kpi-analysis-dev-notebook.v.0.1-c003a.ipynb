{
 "cells": [
  {
   "cell_type": "code",
   "execution_count": null,
   "id": "7cc7e0f9-eb92-4320-8c6f-c0af2a7733e0",
   "metadata": {},
   "outputs": [],
   "source": []
  },
  {
   "cell_type": "code",
   "execution_count": null,
   "id": "d37433b6-f4fd-4478-a4e0-4ac2ea1ee410",
   "metadata": {},
   "outputs": [],
   "source": [
    "import sys\n",
    "import os\n",
    "\n",
    "# Add the project directory to sys.path\n",
    "project_path = \"/Users/hugocontrerasp/Documents/GitHub/moria_ai_labs_dev/data_readiness/\"\n",
    "if project_path not in sys.path:\n",
    "    sys.path.append(project_path)"
   ]
  },
  {
   "cell_type": "code",
   "execution_count": null,
   "id": "4c2708e3-dab5-40cc-9c46-51a3ad369995",
   "metadata": {},
   "outputs": [],
   "source": [
    "# Import the function\n",
    "from moria_engine.analysis.data_transformers import build_common_fields_matrix_kpis, build_common_fields_matrix_kpis_G, build_common_fields_matrix_schema\n",
    "from moria_engine.analysis import graph_visualizer,graph_explainer\n",
    "from moria_engine.data import loaders\n",
    "import pandas as pd\n",
    "import seaborn as sns\n",
    "import matplotlib.pyplot as plt\n",
    "\n",
    "from pyvis.network import Network\n",
    "import networkx as nx\n",
    "\n",
    "df_kpis = loaders.load_json_kpis('../data/test/c003a_lambengolmor/20250601-hacp-c003_lambengolmor-kpi_details.json')\n",
    "df_schema = loaders.load_json_schema('../data/test/c003a_lambengolmor/20250601-hacp-c003_lambengolmor-data_domains_schema.json')\n",
    "df_reports = loaders.load_json_reports('../data/test/c003a_lambengolmor/20250601-hacp-c003_lambengolmor-report_tool_details.json')"
   ]
  },
  {
   "cell_type": "code",
   "execution_count": null,
   "id": "bd5f4f85-98d3-49c3-ab1b-1576788343bb",
   "metadata": {},
   "outputs": [],
   "source": [
    "df_kpis.head()"
   ]
  },
  {
   "cell_type": "code",
   "execution_count": null,
   "id": "c48b69db-df97-4373-9fb2-2b880d7051bb",
   "metadata": {},
   "outputs": [],
   "source": [
    "df_schema.head()"
   ]
  },
  {
   "cell_type": "code",
   "execution_count": null,
   "id": "5a122b2a-9363-45c7-814f-8720c338173a",
   "metadata": {},
   "outputs": [],
   "source": [
    "df_reports.head()"
   ]
  },
  {
   "cell_type": "code",
   "execution_count": null,
   "id": "851ba9fa-7e9b-4abf-b5b6-75aaf794fde3",
   "metadata": {},
   "outputs": [],
   "source": [
    "M, table_list, d_table_domain, G = build_common_fields_matrix_kpis(df_kpis)"
   ]
  },
  {
   "cell_type": "code",
   "execution_count": null,
   "id": "d70a6b6d-e96d-4bc7-86fd-c31b58e13a9a",
   "metadata": {},
   "outputs": [],
   "source": [
    "graph_visualizer.visualize_network_kpis(df_kpis)"
   ]
  },
  {
   "cell_type": "code",
   "execution_count": null,
   "id": "6499e752-37bf-4693-a042-a0f42e095586",
   "metadata": {},
   "outputs": [],
   "source": [
    "G_schema_v = graph_visualizer.visualize_network_schema(df_schema)"
   ]
  },
  {
   "cell_type": "code",
   "execution_count": null,
   "id": "b18994c6-6531-4138-abbd-34a625dfaf45",
   "metadata": {},
   "outputs": [],
   "source": [
    "G_reports_v = graph_visualizer.visualize_network_reports(df_reports)"
   ]
  },
  {
   "cell_type": "code",
   "execution_count": null,
   "id": "ecea670e-cc8a-4a4e-acba-4d7d1efbe51b",
   "metadata": {},
   "outputs": [],
   "source": [
    "G_kpis_v = graph_visualizer.visualize_network_kpis(df_kpis)"
   ]
  },
  {
   "cell_type": "code",
   "execution_count": null,
   "id": "b4b0d03e-dea8-477b-8933-74277e7e23d8",
   "metadata": {},
   "outputs": [],
   "source": [
    "graph_visualizer.visualize_combined_networks(df_schema, df_kpis)"
   ]
  },
  {
   "cell_type": "code",
   "execution_count": null,
   "id": "cc7765c0-94b1-4535-b4ad-bb96ed792330",
   "metadata": {},
   "outputs": [],
   "source": [
    "graph_visualizer.visualize_combined_networks_skr(df_schema, df_kpis,df_reports)"
   ]
  },
  {
   "cell_type": "code",
   "execution_count": null,
   "id": "cf956e1b-ade3-4a9f-9bd1-b27bbaa98cd9",
   "metadata": {},
   "outputs": [],
   "source": [
    "graph_explainer.graph_centrality_attributes(df_kpis)"
   ]
  },
  {
   "cell_type": "code",
   "execution_count": null,
   "id": "7c5708b4-deb1-4fe1-b34a-5a542b54148e",
   "metadata": {},
   "outputs": [],
   "source": [
    "graph_explainer.graph_centrality_attributes(df_schema)"
   ]
  },
  {
   "cell_type": "code",
   "execution_count": null,
   "id": "72d439ed-53da-4353-b793-cb29a4639d3b",
   "metadata": {},
   "outputs": [],
   "source": [
    "df_schema['table_name'].unique()"
   ]
  },
  {
   "cell_type": "code",
   "execution_count": null,
   "id": "afb003bd-40fa-4ee1-95c0-720e62aa944b",
   "metadata": {},
   "outputs": [],
   "source": [
    "df_kpis['table_name'].unique()"
   ]
  },
  {
   "cell_type": "code",
   "execution_count": null,
   "id": "2cdfe492-98f9-4949-9841-c3edeb895edc",
   "metadata": {},
   "outputs": [],
   "source": []
  },
  {
   "cell_type": "code",
   "execution_count": null,
   "id": "b4732ab2-906b-44be-ba00-156a06030aef",
   "metadata": {},
   "outputs": [],
   "source": []
  },
  {
   "cell_type": "code",
   "execution_count": null,
   "id": "a67179e5-d424-4d47-8536-cb75f88c9dd0",
   "metadata": {},
   "outputs": [],
   "source": [
    "matrix_kpis, table_names_kpis, table_to_domain_kpis, table_to_kpi, G_kpis = build_common_fields_matrix_kpis_G(df_kpis)\n",
    "#M_kpis, table_list_kpis, d_table_domain_kpis, G_kpis = build_common_fields_matrix_kpis(df_kpis)"
   ]
  },
  {
   "cell_type": "code",
   "execution_count": null,
   "id": "2cbe79d6-283d-428f-a814-07598fe2cbe2",
   "metadata": {},
   "outputs": [],
   "source": [
    "M_schema, table_list_schema, d_table_domain_schema, G_schema = build_common_fields_matrix_schema(df_schema)"
   ]
  },
  {
   "cell_type": "code",
   "execution_count": null,
   "id": "5583f3e8-4e7c-426f-b36b-b66686be6c41",
   "metadata": {},
   "outputs": [],
   "source": [
    "G_kpis"
   ]
  },
  {
   "cell_type": "code",
   "execution_count": null,
   "id": "51459d89-7bf6-4f0f-9c1c-6a45dbd2fa84",
   "metadata": {},
   "outputs": [],
   "source": [
    "nx.algorithms.graph_edit_distance(G_schema, G_kpis)"
   ]
  },
  {
   "cell_type": "code",
   "execution_count": null,
   "id": "810f3ccb-ccd1-422c-9b96-ae6023c6bdb0",
   "metadata": {},
   "outputs": [],
   "source": [
    "graph_explainer.graph_edit_distance_between_schema_and_kpis(G_schema, G_kpis)"
   ]
  },
  {
   "cell_type": "code",
   "execution_count": null,
   "id": "6a4e10c7-8538-46a3-bda4-6d8897ca8782",
   "metadata": {},
   "outputs": [],
   "source": [
    "graph_explainer.graph_edit_distance_between_schema_and_kpis(G_kpis, G_schema)"
   ]
  },
  {
   "cell_type": "code",
   "execution_count": null,
   "id": "708326ab-17e5-473c-ae48-a288df12ae48",
   "metadata": {},
   "outputs": [],
   "source": []
  },
  {
   "cell_type": "code",
   "execution_count": null,
   "id": "116b3693-dc1b-4e7d-b1f5-b4ec449156bb",
   "metadata": {},
   "outputs": [],
   "source": []
  },
  {
   "cell_type": "code",
   "execution_count": null,
   "id": "7512eb02-890d-4672-8240-3fa1fe7147ba",
   "metadata": {},
   "outputs": [],
   "source": [
    "nx.draw(G_schema_v,with_labels=True)"
   ]
  },
  {
   "cell_type": "code",
   "execution_count": null,
   "id": "6dbb85b6-1deb-4e2f-b82c-fe5b12c9068a",
   "metadata": {},
   "outputs": [],
   "source": [
    "G_schema_v.nodes()"
   ]
  },
  {
   "cell_type": "code",
   "execution_count": null,
   "id": "b69f2a35-42e5-4292-b93c-10621dc75147",
   "metadata": {},
   "outputs": [],
   "source": []
  }
 ],
 "metadata": {
  "kernelspec": {
   "display_name": "Python 3 (ipykernel)",
   "language": "python",
   "name": "python3"
  },
  "language_info": {
   "codemirror_mode": {
    "name": "ipython",
    "version": 3
   },
   "file_extension": ".py",
   "mimetype": "text/x-python",
   "name": "python",
   "nbconvert_exporter": "python",
   "pygments_lexer": "ipython3",
   "version": "3.11.5"
  }
 },
 "nbformat": 4,
 "nbformat_minor": 5
}
